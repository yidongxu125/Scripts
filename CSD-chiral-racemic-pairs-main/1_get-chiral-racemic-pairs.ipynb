{
 "cells": [
  {
   "cell_type": "markdown",
   "id": "88066a9d-05ab-4d2e-b0ad-a2e8f9f81846",
   "metadata": {},
   "source": [
    "# Get chiral and racemic pairs from CSD\n",
    "\n",
    "**Instruction**  \n",
    "This notebook aims to get molecules whose chiral and racemic crystals have been reported in the Cambridge Structural Database (CSD).  \n",
    "The execution of the following code requires the CSD lisence (https://www.ccdc.cam.ac.uk/solutions/csd-licence/).  \n",
    "  \n",
    "**Search procedude and conditions**  \n",
    "1. collect racemic and chiral crystals of the same molecule (chiral is identified by the space group) \n",
    "1. include only organic\n",
    "1. exclude NaN in density, smiles, temperature\n",
    "1. save racemic and chiral data"
   ]
  },
  {
   "cell_type": "code",
   "execution_count": 1,
   "id": "104ef712-1f15-408a-b0cb-50138a071402",
   "metadata": {},
   "outputs": [],
   "source": [
    "## Import packages\n",
    "import pandas as pd\n",
    "import numpy as np\n",
    "import pathlib\n",
    "from ccdc import io\n",
    "from rdkit import Chem"
   ]
  },
  {
   "cell_type": "code",
   "execution_count": 2,
   "id": "80c06b6e-5cc3-4a9d-b03a-e12dab9714a3",
   "metadata": {},
   "outputs": [],
   "source": [
    "entry_reader = io.EntryReader('CSD')\n",
    "csd_mol_reader = io.MoleculeReader('CSD')"
   ]
  },
  {
   "cell_type": "code",
   "execution_count": 3,
   "id": "8c43176c-bfe5-4647-a538-d2b47adc9dc8",
   "metadata": {},
   "outputs": [
    {
     "name": "stdout",
     "output_type": "stream",
     "text": [
      "1153251\n",
      "599\n",
      "Wall time: 44min 34s\n"
     ]
    }
   ],
   "source": [
    "%%time\n",
    "space_group_list = [entry_reader[i].crystal.spacegroup_symbol for i in range(len(entry_reader))]\n",
    "print(len(space_group_list))\n",
    "unique_space_group = list(set(space_group_list))\n",
    "print(len(unique_space_group))"
   ]
  },
  {
   "cell_type": "code",
   "execution_count": 4,
   "id": "c7db1eeb-b849-43b5-92fe-55df892817b3",
   "metadata": {},
   "outputs": [
    {
     "name": "stdout",
     "output_type": "stream",
     "text": [
      "94\n"
     ]
    }
   ],
   "source": [
    "# Exclude data if '*' is included in space group\n",
    "count = 0\n",
    "unique_space_group_rev = []\n",
    "for i in range(len(unique_space_group)):\n",
    "    if '*' in unique_space_group[i]:\n",
    "        count += 1\n",
    "    else:\n",
    "        unique_space_group_rev.append(unique_space_group[i])\n",
    "print(count)"
   ]
  },
  {
   "cell_type": "code",
   "execution_count": 5,
   "id": "36f3013f-14a2-4c57-9ed8-433298d34cc5",
   "metadata": {},
   "outputs": [
    {
     "data": {
      "text/plain": [
       "70"
      ]
     },
     "execution_count": 5,
     "metadata": {},
     "output_type": "execute_result"
    }
   ],
   "source": [
    "# Set chiral space groups\n",
    "chiral_space_group = ['P1', 'P2', 'P21', 'C2', 'I2', 'P222', 'P2221', 'P21212', 'P212121', 'C2221', 'P1121',\n",
    "                     'C222', 'F222', 'I222', 'I212121', 'P4', 'P41', 'P42', 'P43', 'I4', 'I41',\n",
    "                     'P422', 'P4212', 'P4122', 'P41212', 'P412121', 'P4222', 'P42212', 'P4322', 'P43212',\n",
    "                     'I422', 'I4122', 'P3', 'P31', 'P32', 'R3', 'P312', 'P321', 'P3112', 'P3121',\n",
    "                     'P3212', 'P3221', 'R32', 'P6', 'P61', 'P65', 'P63', 'P62', 'P64', 'P622',\n",
    "                     'P6122', 'P6522', 'P6222', 'P6422', 'P6322', 'P23', 'F23', 'I23', 'P213',\n",
    "                     'I213', 'P432', 'P4232', 'F432', 'F4132', 'I432', 'P4332', 'P4132', 'I4132',\n",
    "                     'I1', 'P22121']\n",
    "len(chiral_space_group)"
   ]
  },
  {
   "cell_type": "code",
   "execution_count": 6,
   "id": "815fdad1-9d0c-48f7-92c3-4328fa6e685f",
   "metadata": {},
   "outputs": [
    {
     "name": "stdout",
     "output_type": "stream",
     "text": [
      "Processing: 0\n",
      "Processing: 100000\n",
      "Processing: 200000\n",
      "Processing: 300000\n",
      "Processing: 400000\n",
      "Processing: 500000\n",
      "Processing: 600000\n",
      "Processing: 700000\n",
      "Processing: 800000\n",
      "Processing: 900000\n",
      "Processing: 1000000\n",
      "Processing: 1100000\n",
      "83447\n",
      "Wall time: 34min\n"
     ]
    }
   ],
   "source": [
    "%%time\n",
    "#######################################\n",
    "## Make a dataset of chiral crystals ##\n",
    "#######################################\n",
    "\n",
    "smiles_chiral_list = []\n",
    "refcode_chiral_list = []\n",
    "density_chiral_list = []\n",
    "temperature_chiral_list = []\n",
    "pressure_chiral_list = []\n",
    "spacegroup_chiral_list = []\n",
    "\n",
    "for i in range(len(entry_reader)):\n",
    "    data = entry_reader[i]\n",
    "    if i%100000==0:\n",
    "        print('Processing:', i)\n",
    "    try:\n",
    "        if (data.is_organic==True and\n",
    "            data.calculated_density>0 and\n",
    "            data.temperature!=None and\n",
    "            data.has_3d_structure==True and\n",
    "            data.r_factor<10 and\n",
    "            data.crystal.spacegroup_symbol in chiral_space_group):\n",
    "\n",
    "            # Data aquisition\n",
    "            mol_data = csd_mol_reader.molecule(data.identifier)\n",
    "            mol = Chem.MolFromSmiles(mol_data.smiles)\n",
    "            refcode = data.identifier\n",
    "            smiles_chiral_list.append(Chem.MolToSmiles(mol))\n",
    "            refcode_chiral_list.append(refcode)\n",
    "            density_chiral_list.append(data.calculated_density)\n",
    "            temperature_chiral_list.append(data.temperature)\n",
    "            pressure_chiral_list.append(data.pressure)\n",
    "            spacegroup_chiral_list.append(data.crystal.spacegroup_symbol)\n",
    "    except:\n",
    "        continue\n",
    "\n",
    "print(len(refcode_chiral_list))"
   ]
  },
  {
   "cell_type": "code",
   "execution_count": 7,
   "id": "bc66efa5-2108-44c9-ac69-2c411b4ad75e",
   "metadata": {},
   "outputs": [
    {
     "data": {
      "text/html": [
       "<div>\n",
       "<style scoped>\n",
       "    .dataframe tbody tr th:only-of-type {\n",
       "        vertical-align: middle;\n",
       "    }\n",
       "\n",
       "    .dataframe tbody tr th {\n",
       "        vertical-align: top;\n",
       "    }\n",
       "\n",
       "    .dataframe thead th {\n",
       "        text-align: right;\n",
       "    }\n",
       "</style>\n",
       "<table border=\"1\" class=\"dataframe\">\n",
       "  <thead>\n",
       "    <tr style=\"text-align: right;\">\n",
       "      <th></th>\n",
       "      <th>SMILES</th>\n",
       "      <th>refcode</th>\n",
       "      <th>spacegroup</th>\n",
       "      <th>density</th>\n",
       "      <th>temperature</th>\n",
       "      <th>pressure</th>\n",
       "    </tr>\n",
       "  </thead>\n",
       "  <tbody>\n",
       "    <tr>\n",
       "      <th>0</th>\n",
       "      <td>CC1NC(=O)CNC(=O)C(C)NC(=O)C(C)NC(=O)CNC(=O)CNC...</td>\n",
       "      <td>AAGAGG10</td>\n",
       "      <td>P212121</td>\n",
       "      <td>1.348</td>\n",
       "      <td>at -135 deg.C</td>\n",
       "      <td>None</td>\n",
       "    </tr>\n",
       "    <tr>\n",
       "      <th>1</th>\n",
       "      <td>CC1NC(=O)CNC(=O)CNC(=O)C(C)NC(=O)C(C)NC(=O)CNC...</td>\n",
       "      <td>AAGGAG10</td>\n",
       "      <td>P21</td>\n",
       "      <td>1.396</td>\n",
       "      <td>at -135 deg.C</td>\n",
       "      <td>None</td>\n",
       "    </tr>\n",
       "    <tr>\n",
       "      <th>2</th>\n",
       "      <td>COc1c(N2CC3CCC[NH2+]C3C2)c(F)cc2c(=O)c(C(=O)O)...</td>\n",
       "      <td>ABABIQ</td>\n",
       "      <td>P1</td>\n",
       "      <td>1.408</td>\n",
       "      <td>at 296 K</td>\n",
       "      <td>None</td>\n",
       "    </tr>\n",
       "    <tr>\n",
       "      <th>3</th>\n",
       "      <td>c1ccc2c(c1)COc1nc3c(cc1-2)CCC3.c1ccc2c(c1)COc1...</td>\n",
       "      <td>ABACEM</td>\n",
       "      <td>P212121</td>\n",
       "      <td>1.307</td>\n",
       "      <td>at 295 K</td>\n",
       "      <td>None</td>\n",
       "    </tr>\n",
       "    <tr>\n",
       "      <th>4</th>\n",
       "      <td>CC(=O)OCC1OC(=O)C(O)C1O</td>\n",
       "      <td>ABACEN</td>\n",
       "      <td>P21</td>\n",
       "      <td>1.507</td>\n",
       "      <td>at 293 K</td>\n",
       "      <td>None</td>\n",
       "    </tr>\n",
       "  </tbody>\n",
       "</table>\n",
       "</div>"
      ],
      "text/plain": [
       "                                              SMILES   refcode spacegroup  \\\n",
       "0  CC1NC(=O)CNC(=O)C(C)NC(=O)C(C)NC(=O)CNC(=O)CNC...  AAGAGG10    P212121   \n",
       "1  CC1NC(=O)CNC(=O)CNC(=O)C(C)NC(=O)C(C)NC(=O)CNC...  AAGGAG10        P21   \n",
       "2  COc1c(N2CC3CCC[NH2+]C3C2)c(F)cc2c(=O)c(C(=O)O)...    ABABIQ         P1   \n",
       "3  c1ccc2c(c1)COc1nc3c(cc1-2)CCC3.c1ccc2c(c1)COc1...    ABACEM    P212121   \n",
       "4                            CC(=O)OCC1OC(=O)C(O)C1O    ABACEN        P21   \n",
       "\n",
       "   density    temperature pressure  \n",
       "0    1.348  at -135 deg.C     None  \n",
       "1    1.396  at -135 deg.C     None  \n",
       "2    1.408       at 296 K     None  \n",
       "3    1.307       at 295 K     None  \n",
       "4    1.507       at 293 K     None  "
      ]
     },
     "execution_count": 7,
     "metadata": {},
     "output_type": "execute_result"
    }
   ],
   "source": [
    "df = pd.DataFrame({\n",
    "    'SMILES': smiles_chiral_list, \n",
    "    'refcode': refcode_chiral_list,\n",
    "    'spacegroup': spacegroup_chiral_list,\n",
    "    'density': density_chiral_list,\n",
    "    'temperature': temperature_chiral_list, \n",
    "    'pressure': pressure_chiral_list,\n",
    "})\n",
    "df.head()"
   ]
  },
  {
   "cell_type": "code",
   "execution_count": 8,
   "id": "a3281881-0fb6-4e73-b252-033a87ea24aa",
   "metadata": {},
   "outputs": [
    {
     "name": "stdout",
     "output_type": "stream",
     "text": [
      "Processing: 0\n",
      "Processing: 100000\n",
      "Processing: 200000\n",
      "Processing: 300000\n",
      "Processing: 400000\n",
      "Processing: 500000\n",
      "Processing: 600000\n",
      "Processing: 700000\n",
      "Processing: 800000\n",
      "Processing: 900000\n",
      "Processing: 1000000\n",
      "Processing: 1100000\n",
      "2627\n",
      "Wall time: 4h 5min\n"
     ]
    }
   ],
   "source": [
    "%%time\n",
    "#######################################\n",
    "## get racemic information           ##\n",
    "#######################################\n",
    "smiles_rac_list = []\n",
    "refcode_rac_list = []\n",
    "density_rac_list = []\n",
    "temperature_rac_list = []\n",
    "pressure_rac_list = []\n",
    "spacegroup_rac_list = []\n",
    "\n",
    "for i in range(len(entry_reader)):\n",
    "    data = entry_reader[i]\n",
    "    if i%100000==0:\n",
    "        print('Processing:', i)\n",
    "    try:\n",
    "        # Data aquisition\n",
    "        mol_data = csd_mol_reader.molecule(data.identifier)\n",
    "        mol = Chem.MolFromSmiles(mol_data.smiles)\n",
    "        smiles = Chem.MolToSmiles(mol)\n",
    "        refcode = data.identifier\n",
    "        spacegroup = data.crystal.spacegroup_symbol\n",
    "\n",
    "        if (smiles in df['SMILES'].tolist() and \n",
    "            refcode not in df['refcode'].tolist() and \n",
    "            spacegroup not in chiral_space_group and\n",
    "            spacegroup != 'Unknown' and\n",
    "            data.calculated_density>0):\n",
    "            smiles_rac_list.append(Chem.MolToSmiles(mol))        \n",
    "            refcode_rac_list.append(refcode)\n",
    "            density_rac_list.append(data.calculated_density)\n",
    "            temperature_rac_list.append(data.temperature)\n",
    "            pressure_rac_list.append(data.pressure)\n",
    "            spacegroup_rac_list.append(data.crystal.spacegroup_symbol)\n",
    "    except:\n",
    "        continue\n",
    "\n",
    "print(len(refcode_rac_list))"
   ]
  },
  {
   "cell_type": "code",
   "execution_count": 9,
   "id": "0934acd3-6e93-40c9-b26a-0dff67bc11b2",
   "metadata": {},
   "outputs": [
    {
     "data": {
      "text/html": [
       "<div>\n",
       "<style scoped>\n",
       "    .dataframe tbody tr th:only-of-type {\n",
       "        vertical-align: middle;\n",
       "    }\n",
       "\n",
       "    .dataframe tbody tr th {\n",
       "        vertical-align: top;\n",
       "    }\n",
       "\n",
       "    .dataframe thead th {\n",
       "        text-align: right;\n",
       "    }\n",
       "</style>\n",
       "<table border=\"1\" class=\"dataframe\">\n",
       "  <thead>\n",
       "    <tr style=\"text-align: right;\">\n",
       "      <th></th>\n",
       "      <th>SMILES</th>\n",
       "      <th>refcode</th>\n",
       "      <th>spacegroup</th>\n",
       "      <th>density</th>\n",
       "      <th>temperature</th>\n",
       "      <th>pressure</th>\n",
       "    </tr>\n",
       "  </thead>\n",
       "  <tbody>\n",
       "    <tr>\n",
       "      <th>0</th>\n",
       "      <td>O=C(O)c1ccc(Cn2cnc3ccccc32)cc1</td>\n",
       "      <td>ABADIS</td>\n",
       "      <td>P21/c</td>\n",
       "      <td>1.358</td>\n",
       "      <td>at 293 K</td>\n",
       "      <td>None</td>\n",
       "    </tr>\n",
       "    <tr>\n",
       "      <th>1</th>\n",
       "      <td>CC1=CCCC2(C)OC2CC(C)(C)C2OC2C1</td>\n",
       "      <td>ABEQAZ</td>\n",
       "      <td>P21/n</td>\n",
       "      <td>1.109</td>\n",
       "      <td>None</td>\n",
       "      <td>None</td>\n",
       "    </tr>\n",
       "    <tr>\n",
       "      <th>2</th>\n",
       "      <td>C[Si]1(C)c2ccc3ccccc3c2-c2c(ccc3ccccc23)[Si]1(C)C</td>\n",
       "      <td>ABIBAO</td>\n",
       "      <td>Fdd2</td>\n",
       "      <td>1.179</td>\n",
       "      <td>at 296 K</td>\n",
       "      <td>None</td>\n",
       "    </tr>\n",
       "    <tr>\n",
       "      <th>3</th>\n",
       "      <td>C1=NC2CCCCC2N=Cc2cc3cc(c2)-c2ccc(cc2)-c2cc4cc(...</td>\n",
       "      <td>ABIMEG</td>\n",
       "      <td>C2/c</td>\n",
       "      <td>1.136</td>\n",
       "      <td>100 K</td>\n",
       "      <td>None</td>\n",
       "    </tr>\n",
       "    <tr>\n",
       "      <th>4</th>\n",
       "      <td>C1=NC2CCCCC2N=Cc2cc3cc(c2)-c2ccc(cc2)-c2cc4cc(...</td>\n",
       "      <td>ABINAD</td>\n",
       "      <td>R-3</td>\n",
       "      <td>1.047</td>\n",
       "      <td>350 K</td>\n",
       "      <td>None</td>\n",
       "    </tr>\n",
       "  </tbody>\n",
       "</table>\n",
       "</div>"
      ],
      "text/plain": [
       "                                              SMILES refcode spacegroup  \\\n",
       "0                     O=C(O)c1ccc(Cn2cnc3ccccc32)cc1  ABADIS      P21/c   \n",
       "1                     CC1=CCCC2(C)OC2CC(C)(C)C2OC2C1  ABEQAZ      P21/n   \n",
       "2  C[Si]1(C)c2ccc3ccccc3c2-c2c(ccc3ccccc23)[Si]1(C)C  ABIBAO       Fdd2   \n",
       "3  C1=NC2CCCCC2N=Cc2cc3cc(c2)-c2ccc(cc2)-c2cc4cc(...  ABIMEG       C2/c   \n",
       "4  C1=NC2CCCCC2N=Cc2cc3cc(c2)-c2ccc(cc2)-c2cc4cc(...  ABINAD        R-3   \n",
       "\n",
       "   density temperature pressure  \n",
       "0    1.358    at 293 K     None  \n",
       "1    1.109        None     None  \n",
       "2    1.179    at 296 K     None  \n",
       "3    1.136       100 K     None  \n",
       "4    1.047       350 K     None  "
      ]
     },
     "execution_count": 9,
     "metadata": {},
     "output_type": "execute_result"
    }
   ],
   "source": [
    "df_rac = pd.DataFrame({\n",
    "    'SMILES': smiles_rac_list, \n",
    "    'refcode': refcode_rac_list,\n",
    "    'spacegroup': spacegroup_rac_list,\n",
    "    'density': density_rac_list,\n",
    "    'temperature': temperature_rac_list, \n",
    "    'pressure': pressure_rac_list,\n",
    "})\n",
    "df_rac.head()"
   ]
  },
  {
   "cell_type": "code",
   "execution_count": 10,
   "id": "4ff53878-f3b1-4b49-9a68-c554e96ef94d",
   "metadata": {},
   "outputs": [
    {
     "name": "stdout",
     "output_type": "stream",
     "text": [
      "Error at 5667\n",
      "Error at 10300\n",
      "Error at 18199\n",
      "Error at 42061\n",
      "Error at 50169\n"
     ]
    }
   ],
   "source": [
    "# Cleaning temperature column\n",
    "data = df['temperature']\n",
    "data = data.str.strip('at')\n",
    "error_list = []\n",
    "for i in range(len(data)):\n",
    "    try:\n",
    "        if 'deg.C' in data[i]:\n",
    "            data[i] = data[i].strip('deg.C').lstrip()\n",
    "            data[i] = float(data[i])+273\n",
    "        elif 'K' and '-' in data[i]:\n",
    "            data[i] = data[i].strip('K').lstrip()\n",
    "            ti, tf = data[i].split('-')\n",
    "            data[i] = (float(ti)+float(tf))/2\n",
    "        elif 'K' in data[i]:\n",
    "            data[i] = data[i].strip('K').lstrip()\n",
    "            data[i] = float(data[i])\n",
    "        else:\n",
    "            print('Error at', i)\n",
    "            error_list.append(i)            \n",
    "    except:\n",
    "        print('Error at', i)\n",
    "        error_list.append(i)"
   ]
  },
  {
   "cell_type": "code",
   "execution_count": 11,
   "id": "8ad371c8-6951-4c14-9eff-bfe0c38da549",
   "metadata": {},
   "outputs": [
    {
     "data": {
      "text/plain": [
       "0    138.0\n",
       "1    138.0\n",
       "2    296.0\n",
       "3    295.0\n",
       "4    293.0\n",
       "Name: temperature, dtype: object"
      ]
     },
     "execution_count": 11,
     "metadata": {},
     "output_type": "execute_result"
    }
   ],
   "source": [
    "data[:5]"
   ]
  },
  {
   "cell_type": "code",
   "execution_count": 12,
   "id": "61229f0d-db81-4260-996b-08a001c388eb",
   "metadata": {},
   "outputs": [],
   "source": [
    "# Reflect to dataframe\n",
    "df['temperature'] = data\n",
    "df = df.drop(df.index[error_list])\n",
    "df = df.reset_index(drop=True)"
   ]
  },
  {
   "cell_type": "code",
   "execution_count": 14,
   "id": "f6e6e26e-4491-4707-861a-6c7583af38a7",
   "metadata": {},
   "outputs": [
    {
     "name": "stdout",
     "output_type": "stream",
     "text": [
      "[1, 5, 6, 20, 21, 33, 34, 43, 49, 50, 52, 53, 55, 59, 62, 85, 89, 102, 112, 114, 115, 123, 126, 140, 141, 143, 144, 160, 161, 162, 169, 178, 185, 186, 188, 221, 226, 227, 229, 230, 238, 239, 242, 260, 261, 266, 269, 270, 284, 286, 287, 300, 305, 308, 313, 319, 322, 323, 324, 329, 365, 367, 368, 369, 370, 373, 381, 391, 394, 395, 396, 399, 401, 402, 403, 404, 412, 426, 427, 428, 447, 448, 449, 451, 455, 456, 457, 458, 460, 463, 464, 465, 472, 473, 474, 480, 481, 484, 485, 486, 512, 513, 514, 515, 516, 517, 520, 521, 525, 539, 540, 546, 547, 550, 551, 557, 567, 583, 585, 587, 591, 592, 593, 594, 596, 600, 629, 654, 658, 662, 665, 666, 677, 678, 679, 701, 705, 707, 708, 739, 740, 741, 742, 743, 746, 804, 805, 825, 838, 859, 880, 906, 909, 911, 918, 922, 924, 979, 1037, 1043, 1044, 1047, 1049, 1054, 1056, 1057, 1062, 1069, 1078, 1089, 1117, 1118, 1128, 1141, 1146, 1154, 1178, 1187, 1188, 1189, 1190, 1195, 1230, 1232, 1238, 1239, 1241, 1265, 1267, 1268, 1269, 1291, 1292, 1293, 1307, 1309, 1310, 1312, 1315, 1327, 1331, 1334, 1341, 1342, 1345, 1349, 1351, 1381, 1383, 1384, 1390, 1391, 1394, 1399, 1400, 1403, 1405, 1406, 1407, 1416, 1421, 1422, 1424, 1425, 1501, 1503, 1504, 1505, 1506, 1507, 1512, 1517, 1519, 1530, 1533, 1560, 1564, 1569, 1573, 1574, 1577, 1580, 1584, 1585, 1594, 1606, 1615, 1618, 1619, 1633, 1637, 1645, 1647, 1648, 1662, 1670, 1672, 1673, 1674, 1675, 1676, 1689, 1690, 1691, 1707, 1708, 1722, 1725, 1736, 1737, 1745, 1749, 1750, 1783, 1786, 1793, 1794, 1800, 1808, 1811, 1812, 1814, 1829, 1832, 1833, 1839, 1840, 1841, 1847, 1853, 1857, 1884, 1885, 1886, 1887, 1894, 1895, 1896, 1898, 1903, 1904, 1905, 1906, 1907, 1908, 1909, 1911, 1912, 1918, 1919, 1930, 1951, 1964, 1965, 1969, 1974, 1975, 1976, 1978, 1986, 2036, 2037, 2040, 2042, 2045, 2052, 2103, 2108, 2109, 2117, 2126, 2129, 2130, 2144, 2145, 2146, 2147, 2148, 2149, 2151, 2152, 2156, 2166, 2169, 2178, 2179, 2195, 2210, 2245, 2269, 2274, 2284, 2320, 2334, 2364, 2374, 2377, 2382, 2397, 2404, 2406, 2407, 2412, 2413, 2417, 2420, 2421, 2423, 2424, 2427, 2428, 2429, 2430, 2431, 2432, 2433, 2441, 2442, 2443, 2444, 2445, 2446, 2448, 2451, 2452, 2454, 2457, 2458, 2461, 2462, 2463, 2470, 2471, 2472, 2473, 2475]\n"
     ]
    }
   ],
   "source": [
    "# Cleaning temperature column\n",
    "data = df_rac['temperature']\n",
    "data = data.str.strip('at')\n",
    "error_list = []\n",
    "for i in range(len(data)):\n",
    "    try:\n",
    "        if 'deg.C' in data[i]:\n",
    "            data[i] = data[i].strip('deg.C').lstrip()\n",
    "            data[i] = float(data[i])+273\n",
    "        elif 'K' and '-' in data[i]:\n",
    "            data[i] = data[i].strip('K').lstrip()\n",
    "            ti, tf = data[i].split('-')\n",
    "            data[i] = (float(ti)+float(tf))/2\n",
    "        elif 'K' in data[i]:\n",
    "            data[i] = data[i].strip('K').lstrip()\n",
    "            data[i] = float(data[i])\n",
    "        else:\n",
    "            error_list.append(i)            \n",
    "    except:\n",
    "        error_list.append(i)\n",
    "print(error_list)"
   ]
  },
  {
   "cell_type": "code",
   "execution_count": 15,
   "id": "ecb13996-aadd-4b4a-8456-1b5d6291bc5d",
   "metadata": {},
   "outputs": [
    {
     "data": {
      "text/plain": [
       "0    293.0\n",
       "1     None\n",
       "2    296.0\n",
       "3    100.0\n",
       "4    350.0\n",
       "Name: temperature, dtype: object"
      ]
     },
     "execution_count": 15,
     "metadata": {},
     "output_type": "execute_result"
    }
   ],
   "source": [
    "data[:5]"
   ]
  },
  {
   "cell_type": "code",
   "execution_count": 16,
   "id": "5d85f07f-aec6-4beb-856e-02c60d545e6e",
   "metadata": {},
   "outputs": [],
   "source": [
    "# Reflect to dataframe\n",
    "df_rac['temperature'] = data\n",
    "df_rac = df_rac.drop(df_rac.index[error_list])\n",
    "df_rac = df_rac.reset_index(drop=True)"
   ]
  },
  {
   "cell_type": "code",
   "execution_count": 17,
   "id": "acc60026-1b5e-4f88-8bd9-5b7213863c0b",
   "metadata": {},
   "outputs": [],
   "source": [
    "# set level\n",
    "df_rac['label'] = 'racemic'\n",
    "df['label'] = 'chiral'"
   ]
  },
  {
   "cell_type": "code",
   "execution_count": 18,
   "id": "f5bf81d0-0134-46fe-a459-007db9083ffd",
   "metadata": {},
   "outputs": [
    {
     "name": "stdout",
     "output_type": "stream",
     "text": [
      "Wall time: 34min 43s\n"
     ]
    }
   ],
   "source": [
    "%%time\n",
    "df_docking = pd.DataFrame(columns=df_rac.columns)\n",
    "for i in range(df_rac.shape[0]):\n",
    "    df_docking = df_docking.append(df_rac.iloc[i,:], ignore_index=True)\n",
    "    for j in range(df.shape[0]):\n",
    "        if df['SMILES'][j] == df_rac['SMILES'][i]:\n",
    "            df_docking = df_docking.append(df.iloc[j,:], ignore_index=True)"
   ]
  },
  {
   "cell_type": "code",
   "execution_count": 19,
   "id": "225ccda2-768b-44f1-a2a0-d9942fb974ec",
   "metadata": {},
   "outputs": [
    {
     "data": {
      "text/html": [
       "<div>\n",
       "<style scoped>\n",
       "    .dataframe tbody tr th:only-of-type {\n",
       "        vertical-align: middle;\n",
       "    }\n",
       "\n",
       "    .dataframe tbody tr th {\n",
       "        vertical-align: top;\n",
       "    }\n",
       "\n",
       "    .dataframe thead th {\n",
       "        text-align: right;\n",
       "    }\n",
       "</style>\n",
       "<table border=\"1\" class=\"dataframe\">\n",
       "  <thead>\n",
       "    <tr style=\"text-align: right;\">\n",
       "      <th></th>\n",
       "      <th>SMILES</th>\n",
       "      <th>refcode</th>\n",
       "      <th>spacegroup</th>\n",
       "      <th>density</th>\n",
       "      <th>temperature</th>\n",
       "      <th>pressure</th>\n",
       "      <th>label</th>\n",
       "    </tr>\n",
       "  </thead>\n",
       "  <tbody>\n",
       "    <tr>\n",
       "      <th>0</th>\n",
       "      <td>O=C(O)c1ccc(Cn2cnc3ccccc32)cc1</td>\n",
       "      <td>ABADIS</td>\n",
       "      <td>P21/c</td>\n",
       "      <td>1.358</td>\n",
       "      <td>293.0</td>\n",
       "      <td>None</td>\n",
       "      <td>racemic</td>\n",
       "    </tr>\n",
       "    <tr>\n",
       "      <th>1</th>\n",
       "      <td>O=C(O)c1ccc(Cn2cnc3ccccc32)cc1</td>\n",
       "      <td>ABADIS01</td>\n",
       "      <td>P212121</td>\n",
       "      <td>1.320</td>\n",
       "      <td>293.0</td>\n",
       "      <td>None</td>\n",
       "      <td>chiral</td>\n",
       "    </tr>\n",
       "    <tr>\n",
       "      <th>2</th>\n",
       "      <td>C[Si]1(C)c2ccc3ccccc3c2-c2c(ccc3ccccc23)[Si]1(C)C</td>\n",
       "      <td>ABIBAO</td>\n",
       "      <td>Fdd2</td>\n",
       "      <td>1.179</td>\n",
       "      <td>296.0</td>\n",
       "      <td>None</td>\n",
       "      <td>racemic</td>\n",
       "    </tr>\n",
       "    <tr>\n",
       "      <th>3</th>\n",
       "      <td>C[Si]1(C)c2ccc3ccccc3c2-c2c(ccc3ccccc23)[Si]1(C)C</td>\n",
       "      <td>LUMJAE</td>\n",
       "      <td>I41</td>\n",
       "      <td>1.145</td>\n",
       "      <td>296.2</td>\n",
       "      <td>None</td>\n",
       "      <td>chiral</td>\n",
       "    </tr>\n",
       "    <tr>\n",
       "      <th>4</th>\n",
       "      <td>C1=NC2CCCCC2N=Cc2cc3cc(c2)-c2ccc(cc2)-c2cc4cc(...</td>\n",
       "      <td>ABIMEG</td>\n",
       "      <td>C2/c</td>\n",
       "      <td>1.136</td>\n",
       "      <td>100.0</td>\n",
       "      <td>None</td>\n",
       "      <td>racemic</td>\n",
       "    </tr>\n",
       "  </tbody>\n",
       "</table>\n",
       "</div>"
      ],
      "text/plain": [
       "                                              SMILES   refcode spacegroup  \\\n",
       "0                     O=C(O)c1ccc(Cn2cnc3ccccc32)cc1    ABADIS      P21/c   \n",
       "1                     O=C(O)c1ccc(Cn2cnc3ccccc32)cc1  ABADIS01    P212121   \n",
       "2  C[Si]1(C)c2ccc3ccccc3c2-c2c(ccc3ccccc23)[Si]1(C)C    ABIBAO       Fdd2   \n",
       "3  C[Si]1(C)c2ccc3ccccc3c2-c2c(ccc3ccccc23)[Si]1(C)C    LUMJAE        I41   \n",
       "4  C1=NC2CCCCC2N=Cc2cc3cc(c2)-c2ccc(cc2)-c2cc4cc(...    ABIMEG       C2/c   \n",
       "\n",
       "   density  temperature pressure    label  \n",
       "0    1.358        293.0     None  racemic  \n",
       "1    1.320        293.0     None   chiral  \n",
       "2    1.179        296.0     None  racemic  \n",
       "3    1.145        296.2     None   chiral  \n",
       "4    1.136        100.0     None  racemic  "
      ]
     },
     "execution_count": 19,
     "metadata": {},
     "output_type": "execute_result"
    }
   ],
   "source": [
    "df_docking.head()"
   ]
  },
  {
   "cell_type": "code",
   "execution_count": 20,
   "id": "6d615ab5-28d4-44e0-91b5-ee16fcf261e2",
   "metadata": {},
   "outputs": [],
   "source": [
    "df_docking = df_docking.drop_duplicates()\n",
    "# df_docking.to_csv('./dataset/chiral-racemic-pairs.csv') # Please uncomment out when executing."
   ]
  },
  {
   "cell_type": "markdown",
   "id": "add3a8b5-bb33-4e10-824a-d445252beefa",
   "metadata": {
    "tags": []
   },
   "source": [
    "# [Notice] Cleaning the exported csv\n",
    "Data in the exported csv was manually checked one by one according to the following conditions for easier analysis.  \n",
    "1. If one SMILES corresponded to one chiral crystal code and one racemic crystal code, the data were used as is.\n",
    "1. If a SMILES corresponded to one chiral crystal code and several racemic crystal codes, the racemic crystal data were partially deleted. In this case, if the same space group had different measurement temperatures, only the data close to the measurement temperature of the chiral crystal was kept. If there were racemic crystals in different space groups, only one data set in each space group was kept.\n",
    "1. If a SMILES corresponded to codes for several chiral crystals and one racemic crystal, the data for the chiral crystals were partially removed in the same way as described above.\n",
    "1. The above data shaping left only one code per a space group when multiple data were reported. Polymorphism of chiral or racemic crystals with different space groups are kept in the revised dataset.\n",
    "1. On the other hand, if the crystalline polymorphism is in the same space group, it is not included in the formatted data set because one of the data was deleted during the data formulation process.\n",
    "\n",
    "The revised dataset was renamed as `chiral-racemic-pairs_cleaned.csv`."
   ]
  },
  {
   "cell_type": "code",
   "execution_count": null,
   "id": "4e301d94-d20a-4421-9683-0c974ca3ead5",
   "metadata": {},
   "outputs": [],
   "source": []
  }
 ],
 "metadata": {
  "kernelspec": {
   "display_name": "Python 3 (ipykernel)",
   "language": "python",
   "name": "python3"
  },
  "language_info": {
   "codemirror_mode": {
    "name": "ipython",
    "version": 3
   },
   "file_extension": ".py",
   "mimetype": "text/x-python",
   "name": "python",
   "nbconvert_exporter": "python",
   "pygments_lexer": "ipython3",
   "version": "3.7.0"
  }
 },
 "nbformat": 4,
 "nbformat_minor": 5
}
